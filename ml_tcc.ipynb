{
  "cells": [
    {
      "cell_type": "markdown",
      "metadata": {
        "id": "view-in-github",
        "colab_type": "text"
      },
      "source": [
        "<a href=\"https://colab.research.google.com/github/zeliasporto/tcc/blob/main/ml_tcc.ipynb\" target=\"_parent\"><img src=\"https://colab.research.google.com/assets/colab-badge.svg\" alt=\"Open In Colab\"/></a>"
      ]
    },
    {
      "cell_type": "markdown",
      "metadata": {
        "id": "Cb4espuLKJiA"
      },
      "source": [
        "##### Copyright 2020 The TensorFlow Hub Authors.\n"
      ]
    },
    {
      "cell_type": "code",
      "execution_count": null,
      "metadata": {
        "cellView": "form",
        "id": "jM3hCI1UUzar"
      },
      "outputs": [],
      "source": [
        "#@title Licensed under the Apache License, Version 2.0 (the \"License\");\n",
        "# you may not use this file except in compliance with the License.\n",
        "# You may obtain a copy of the License at\n",
        "#\n",
        "# https://www.apache.org/licenses/LICENSE-2.0\n",
        "#\n",
        "# Unless required by applicable law or agreed to in writing, software\n",
        "# distributed under the License is distributed on an \"AS IS\" BASIS,\n",
        "# WITHOUT WARRANTIES OR CONDITIONS OF ANY KIND, either express or implied.\n",
        "# See the License for the specific language governing permissions and\n",
        "# limitations under the License."
      ]
    },
    {
      "cell_type": "markdown",
      "metadata": {
        "id": "4_NEJlxKKjyI"
      },
      "source": [
        "<table class=\"tfo-notebook-buttons\" align=\"left\">\n",
        "  <td>\n",
        "    <a target=\"_blank\" href=\"https://www.tensorflow.org/text/tutorials/classify_text_with_bert\"><img src=\"https://www.tensorflow.org/images/tf_logo_32px.png\" />View on TensorFlow.org</a>\n",
        "  </td>\n",
        "  <td>\n",
        "    <a target=\"_blank\" href=\"https://colab.research.google.com/github/tensorflow/text/blob/master/docs/tutorials/classify_text_with_bert.ipynb\"><img src=\"https://www.tensorflow.org/images/colab_logo_32px.png\" />Run in Google Colab</a>\n",
        "  </td>\n",
        "  <td>\n",
        "    <a target=\"_blank\" href=\"https://github.com/tensorflow/text/blob/master/docs/tutorials/classify_text_with_bert.ipynb\"><img src=\"https://www.tensorflow.org/images/GitHub-Mark-32px.png\" />View on GitHub</a>\n",
        "  </td>\n",
        "  <td>\n",
        "    <a href=\"https://storage.googleapis.com/tensorflow_docs/text/docs/tutorials/classify_text_with_bert.ipynb\"><img src=\"https://www.tensorflow.org/images/download_logo_32px.png\" />Download notebook</a>\n",
        "  </td>\n",
        "  <td>\n",
        "    <a href=\"https://tfhub.dev/google/collections/bert/1\"><img src=\"https://www.tensorflow.org/images/hub_logo_32px.png\" />See TF Hub model</a>\n",
        "  </td>\n",
        "</table>"
      ]
    },
    {
      "cell_type": "markdown",
      "metadata": {
        "id": "IZ6SNYq_tVVC"
      },
      "source": [
        "# Classificação de texto com BERT\n",
        "\n",
        "Este trabalho é adaptado de um tutorial que contêm ajustes (fine-tune) para o BERT performar análise de sentimentos em, originalmente, um dataset com texto simples de _reviews_ de filmes no site IMDB. Agora, classifica tweets com temática suicida.\n",
        "\n",
        "Além de treinar o modelo, também foi incluído como pré-processar o texto em um formato adequado.\n",
        "\n",
        "Etapas neste notebook:\n",
        "\n",
        "- Carregar a base de dados do [repositório no Github](https://github.com/zeliasporto/tcc)\n",
        "- Carregar um modelo BERT do TensorFlow Hub\n",
        "- Construção do modelo combinando BERT com um classificador\n",
        "- Treinar o modelo, fazendo o fine-tuning do BERT como parte do processo "
      ]
    },
    {
      "cell_type": "markdown",
      "metadata": {
        "id": "SCjmX4zTCkRK"
      },
      "source": [
        "## Setup\n"
      ]
    },
    {
      "cell_type": "code",
      "execution_count": null,
      "metadata": {
        "id": "q-YbjCkzw0yU"
      },
      "outputs": [],
      "source": [
        "# A dependency of the preprocessing for BERT inputs\n",
        "!pip install -q -U \"tensorflow-text==2.10.*\""
      ]
    },
    {
      "cell_type": "markdown",
      "metadata": {
        "id": "5w_XlxN1IsRJ"
      },
      "source": [
        "Para poder usar posteriormente o AdamW optimizer do [tensorflow/models](https://github.com/tensorflow/models)."
      ]
    },
    {
      "cell_type": "code",
      "execution_count": null,
      "metadata": {
        "id": "b-P1ZOA0FkVJ"
      },
      "outputs": [],
      "source": [
        "!pip install -q tf-models-official==2.10.0"
      ]
    },
    {
      "cell_type": "code",
      "execution_count": null,
      "metadata": {
        "id": "_XgTpm9ZxoN9"
      },
      "outputs": [],
      "source": [
        "import numpy as np\n",
        "import os\n",
        "import pandas as pd\n",
        "import random\n",
        "import shutil\n",
        "import subprocess\n",
        "\n",
        "import tensorflow as tf\n",
        "import tensorflow_hub as hub\n",
        "import tensorflow_text as text\n",
        "from official.nlp import optimization  # to create AdamW optimizer\n",
        "from sklearn.metrics import ConfusionMatrixDisplay\n",
        "from sklearn.metrics import confusion_matrix\n",
        "from sklearn.model_selection import train_test_split\n",
        "from keras import backend as K\n",
        "\n",
        "import matplotlib.pyplot as plt\n",
        "\n",
        "tf.get_logger().setLevel('ERROR')"
      ]
    },
    {
      "cell_type": "markdown",
      "metadata": {
        "id": "q6MugfEgDRpY"
      },
      "source": [
        "## Análise de sentimentos \n",
        "\n",
        "Este notebook treina o modelo de análise de sentimetnos para classificar o texto dos tweets em *nocivo*, *protetor* ou genérico*.\n",
        "\n",
        "Foi usada a [Search API: Premium](https://ai.stanford.edu/~amaas/data/sentiment/) que permite faz requisilçoes que retornem publicações da rede social [Twitter](https://twitter.com) de uma data (fromDate) ate outra (toDate). Após os dados foram classificados e tratados, depois passados para o [repositório no Github](https://github.com/zeliasporto/tcc)"
      ]
    },
    {
      "cell_type": "code",
      "source": [
        "treinar_2019_testar_2020 = False\n",
        "so_2019 = True\n",
        "\n",
        "if treinar_2019_testar_2020:\n",
        "    num_classes = 3\n",
        "\n",
        "    url2019 = 'https://github.com/hsandmann/zelia.data/raw/main/tweets_normalizados_2019.xlsx'\n",
        "    df2019 = pd.read_excel(url2019)\n",
        "    df2019 = df2019.drop(['id'], axis=1)\n",
        "    df2019 = df2019.sample(frac = 1)\n",
        "    df2019[\"classe\"] = tf.keras.utils.to_categorical(df2019[\"classe\"].to_numpy() - 1, num_classes=num_classes)\n",
        "\n",
        "    url2020 = 'https://github.com/hsandmann/zelia.data/raw/main/tweets_normalizados_2020.xlsx'\n",
        "    df2020 = pd.read_excel(url2020)\n",
        "    df2020 = df2020.drop(['id'], axis=1)\n",
        "    df2020 = df2020.sample(frac = 1)\n",
        "    df2020[\"classe\"] = tf.keras.utils.to_categorical(df2020[\"classe\"].to_numpy() - 1, num_classes=num_classes)\n",
        "\n",
        "    x_train = df2019['texto'].to_numpy()\n",
        "    y_train = np.zeros((len(x_train), num_classes))\n",
        "    y_train[np.arange(len(x_train)), np.asarray(df2019[\"classe\"].to_numpy()).astype(np.int32)] = 1.\n",
        "\n",
        "    x_test = df2020['texto'].to_numpy()\n",
        "    y_test = np.zeros((len(x_test), num_classes))\n",
        "    y_test[np.arange(len(x_test)), np.asarray(df2020[\"classe\"].to_numpy()).astype(np.int32)] = 1.\n",
        "elif so_2019:\n",
        "    num_classes = 3\n",
        "\n",
        "    url2019 = 'https://github.com/hsandmann/zelia.data/raw/main/tweets_normalizados_2019.xlsx'\n",
        "    df2019 = pd.read_excel(url2019)\n",
        "    df2019 = df2019.drop(['id'], axis=1)\n",
        "    df2019 = df2019.sample(frac = 1)\n",
        "    df2019[\"classe\"] = tf.keras.utils.to_categorical(df2019[\"classe\"].to_numpy() - 1, num_classes=num_classes)\n",
        "\n",
        "    part_1 = df2019.sample(frac = 0.7)\n",
        "    part_2 = df2019.drop(part_1.index)\n",
        "\n",
        "    x_train = part_1['texto'].to_numpy()\n",
        "    y_train = np.zeros((len(x_train), num_classes))\n",
        "    y_train[np.arange(len(x_train)), np.asarray(part_1[\"classe\"].to_numpy()).astype(np.int32)] = 1.\n",
        "\n",
        "    x_test = part_2['texto'].to_numpy()\n",
        "    y_test = np.zeros((len(x_test), num_classes))\n",
        "    y_test[np.arange(len(x_test)), np.asarray(part_2[\"classe\"].to_numpy()).astype(np.int32)] = 1.\n",
        "else:\n",
        "\n",
        "    seed = 43\n",
        "    # seed = random.randint(1, 100)\n",
        "    print(f'seed: {seed}')\n",
        "\n",
        "    url = 'https://github.com/hsandmann/zelia.data/raw/main/tweets_normalizados_all.xlsx'\n",
        "\n",
        "    df = pd.read_excel(url)\n",
        "    df = df.drop(['id', 'ano'], axis=1)\n",
        "    print(df.head())\n",
        "\n",
        "    num_classes = len(df[\"classe\"].value_counts())\n",
        "    y = tf.keras.utils.to_categorical(df[\"classe\"].to_numpy() - 1, num_classes=num_classes)\n",
        "    x_train, x_test, y_train, y_test = train_test_split(df['texto'].to_numpy(), y, test_size=0.3, random_state=seed)\n",
        "\n",
        "print(f'train size: {len(x_train)}')\n",
        "print(f'test size: {len(x_test)}')"
      ],
      "metadata": {
        "id": "M15_koilS6r0",
        "colab": {
          "base_uri": "https://localhost:8080/"
        },
        "outputId": "f659c96c-cdfb-455c-ec1a-44dde528f19b"
      },
      "execution_count": null,
      "outputs": [
        {
          "output_type": "stream",
          "name": "stdout",
          "text": [
            "train size: 700\n",
            "test size: 300\n"
          ]
        }
      ]
    },
    {
      "cell_type": "markdown",
      "source": [
        "# Pré-processamento do dataset\n",
        "\n",
        "Normalização\n"
      ],
      "metadata": {
        "id": "8KOOqTXKcXaU"
      }
    },
    {
      "cell_type": "markdown",
      "source": [
        "## Carregando modelos do TensorFlow Hub\n",
        "\n",
        " Foi escolhido o modelo bert_multi_cased, que é BERT-Base, Multilingual Cased, devido a base de dados estar em português e essa é a única base qeu tem pré-treinamentos neste idioma."
      ],
      "metadata": {
        "id": "sftA4BDh3c-O"
      }
    },
    {
      "cell_type": "code",
      "execution_count": null,
      "metadata": {
        "id": "y8_ctG55-uTX",
        "cellView": "form",
        "colab": {
          "base_uri": "https://localhost:8080/"
        },
        "outputId": "e0c21f2a-3313-4608-e245-2e383439b240"
      },
      "outputs": [
        {
          "output_type": "stream",
          "name": "stdout",
          "text": [
            "BERT model selected           : https://tfhub.dev/tensorflow/bert_multi_cased_L-12_H-768_A-12/3\n",
            "Preprocess model auto-selected: https://tfhub.dev/tensorflow/bert_multi_cased_preprocess/3\n"
          ]
        }
      ],
      "source": [
        "#@title Choose a BERT model to fine-tune\n",
        "\n",
        "bert_model_name = 'bert_multi_cased_L-12_H-768_A-12'  #@param [\"bert_en_uncased_L-12_H-768_A-12\", \"bert_en_cased_L-12_H-768_A-12\", \"bert_multi_cased_L-12_H-768_A-12\", \"small_bert/bert_en_uncased_L-2_H-128_A-2\", \"small_bert/bert_en_uncased_L-2_H-256_A-4\", \"small_bert/bert_en_uncased_L-2_H-512_A-8\", \"small_bert/bert_en_uncased_L-2_H-768_A-12\", \"small_bert/bert_en_uncased_L-4_H-128_A-2\", \"small_bert/bert_en_uncased_L-4_H-256_A-4\", \"small_bert/bert_en_uncased_L-4_H-512_A-8\", \"small_bert/bert_en_uncased_L-4_H-768_A-12\", \"small_bert/bert_en_uncased_L-6_H-128_A-2\", \"small_bert/bert_en_uncased_L-6_H-256_A-4\", \"small_bert/bert_en_uncased_L-6_H-512_A-8\", \"small_bert/bert_en_uncased_L-6_H-768_A-12\", \"small_bert/bert_en_uncased_L-8_H-128_A-2\", \"small_bert/bert_en_uncased_L-8_H-256_A-4\", \"small_bert/bert_en_uncased_L-8_H-512_A-8\", \"small_bert/bert_en_uncased_L-8_H-768_A-12\", \"small_bert/bert_en_uncased_L-10_H-128_A-2\", \"small_bert/bert_en_uncased_L-10_H-256_A-4\", \"small_bert/bert_en_uncased_L-10_H-512_A-8\", \"small_bert/bert_en_uncased_L-10_H-768_A-12\", \"small_bert/bert_en_uncased_L-12_H-128_A-2\", \"small_bert/bert_en_uncased_L-12_H-256_A-4\", \"small_bert/bert_en_uncased_L-12_H-512_A-8\", \"small_bert/bert_en_uncased_L-12_H-768_A-12\", \"albert_en_base\", \"electra_small\", \"electra_base\", \"experts_pubmed\", \"experts_wiki_books\", \"talking-heads_base\"]\n",
        "\n",
        "map_name_to_handle = {\n",
        "    'bert_en_uncased_L-12_H-768_A-12':\n",
        "        'https://tfhub.dev/tensorflow/bert_en_uncased_L-12_H-768_A-12/3',\n",
        "    'bert_en_cased_L-12_H-768_A-12':\n",
        "        'https://tfhub.dev/tensorflow/bert_en_cased_L-12_H-768_A-12/3',\n",
        "    'bert_multi_cased_L-12_H-768_A-12':\n",
        "        'https://tfhub.dev/tensorflow/bert_multi_cased_L-12_H-768_A-12/3',\n",
        "    'small_bert/bert_en_uncased_L-2_H-128_A-2':\n",
        "        'https://tfhub.dev/tensorflow/small_bert/bert_en_uncased_L-2_H-128_A-2/1',\n",
        "    'small_bert/bert_en_uncased_L-2_H-256_A-4':\n",
        "        'https://tfhub.dev/tensorflow/small_bert/bert_en_uncased_L-2_H-256_A-4/1',\n",
        "    'small_bert/bert_en_uncased_L-2_H-512_A-8':\n",
        "        'https://tfhub.dev/tensorflow/small_bert/bert_en_uncased_L-2_H-512_A-8/1',\n",
        "    'small_bert/bert_en_uncased_L-2_H-768_A-12':\n",
        "        'https://tfhub.dev/tensorflow/small_bert/bert_en_uncased_L-2_H-768_A-12/1',\n",
        "    'small_bert/bert_en_uncased_L-4_H-128_A-2':\n",
        "        'https://tfhub.dev/tensorflow/small_bert/bert_en_uncased_L-4_H-128_A-2/1',\n",
        "    'small_bert/bert_en_uncased_L-4_H-256_A-4':\n",
        "        'https://tfhub.dev/tensorflow/small_bert/bert_en_uncased_L-4_H-256_A-4/1',\n",
        "    'small_bert/bert_en_uncased_L-4_H-512_A-8':\n",
        "        'https://tfhub.dev/tensorflow/small_bert/bert_en_uncased_L-4_H-512_A-8/1',\n",
        "    'small_bert/bert_en_uncased_L-4_H-768_A-12':\n",
        "        'https://tfhub.dev/tensorflow/small_bert/bert_en_uncased_L-4_H-768_A-12/1',\n",
        "    'small_bert/bert_en_uncased_L-6_H-128_A-2':\n",
        "        'https://tfhub.dev/tensorflow/small_bert/bert_en_uncased_L-6_H-128_A-2/1',\n",
        "    'small_bert/bert_en_uncased_L-6_H-256_A-4':\n",
        "        'https://tfhub.dev/tensorflow/small_bert/bert_en_uncased_L-6_H-256_A-4/1',\n",
        "    'small_bert/bert_en_uncased_L-6_H-512_A-8':\n",
        "        'https://tfhub.dev/tensorflow/small_bert/bert_en_uncased_L-6_H-512_A-8/1',\n",
        "    'small_bert/bert_en_uncased_L-6_H-768_A-12':\n",
        "        'https://tfhub.dev/tensorflow/small_bert/bert_en_uncased_L-6_H-768_A-12/1',\n",
        "    'small_bert/bert_en_uncased_L-8_H-128_A-2':\n",
        "        'https://tfhub.dev/tensorflow/small_bert/bert_en_uncased_L-8_H-128_A-2/1',\n",
        "    'small_bert/bert_en_uncased_L-8_H-256_A-4':\n",
        "        'https://tfhub.dev/tensorflow/small_bert/bert_en_uncased_L-8_H-256_A-4/1',\n",
        "    'small_bert/bert_en_uncased_L-8_H-512_A-8':\n",
        "        'https://tfhub.dev/tensorflow/small_bert/bert_en_uncased_L-8_H-512_A-8/1',\n",
        "    'small_bert/bert_en_uncased_L-8_H-768_A-12':\n",
        "        'https://tfhub.dev/tensorflow/small_bert/bert_en_uncased_L-8_H-768_A-12/1',\n",
        "    'small_bert/bert_en_uncased_L-10_H-128_A-2':\n",
        "        'https://tfhub.dev/tensorflow/small_bert/bert_en_uncased_L-10_H-128_A-2/1',\n",
        "    'small_bert/bert_en_uncased_L-10_H-256_A-4':\n",
        "        'https://tfhub.dev/tensorflow/small_bert/bert_en_uncased_L-10_H-256_A-4/1',\n",
        "    'small_bert/bert_en_uncased_L-10_H-512_A-8':\n",
        "        'https://tfhub.dev/tensorflow/small_bert/bert_en_uncased_L-10_H-512_A-8/1',\n",
        "    'small_bert/bert_en_uncased_L-10_H-768_A-12':\n",
        "        'https://tfhub.dev/tensorflow/small_bert/bert_en_uncased_L-10_H-768_A-12/1',\n",
        "    'small_bert/bert_en_uncased_L-12_H-128_A-2':\n",
        "        'https://tfhub.dev/tensorflow/small_bert/bert_en_uncased_L-12_H-128_A-2/1',\n",
        "    'small_bert/bert_en_uncased_L-12_H-256_A-4':\n",
        "        'https://tfhub.dev/tensorflow/small_bert/bert_en_uncased_L-12_H-256_A-4/1',\n",
        "    'small_bert/bert_en_uncased_L-12_H-512_A-8':\n",
        "        'https://tfhub.dev/tensorflow/small_bert/bert_en_uncased_L-12_H-512_A-8/1',\n",
        "    'small_bert/bert_en_uncased_L-12_H-768_A-12':\n",
        "        'https://tfhub.dev/tensorflow/small_bert/bert_en_uncased_L-12_H-768_A-12/1',\n",
        "    'albert_en_base':\n",
        "        'https://tfhub.dev/tensorflow/albert_en_base/2',\n",
        "    'electra_small':\n",
        "        'https://tfhub.dev/google/electra_small/2',\n",
        "    'electra_base':\n",
        "        'https://tfhub.dev/google/electra_base/2',\n",
        "    'experts_pubmed':\n",
        "        'https://tfhub.dev/google/experts/bert/pubmed/2',\n",
        "    'experts_wiki_books':\n",
        "        'https://tfhub.dev/google/experts/bert/wiki_books/2',\n",
        "    'talking-heads_base':\n",
        "        'https://tfhub.dev/tensorflow/talkheads_ggelu_bert_en_base/1',\n",
        "}\n",
        "\n",
        "map_model_to_preprocess = {\n",
        "    'bert_en_uncased_L-12_H-768_A-12':\n",
        "        'https://tfhub.dev/tensorflow/bert_en_uncased_preprocess/3',\n",
        "    'bert_en_cased_L-12_H-768_A-12':\n",
        "        'https://tfhub.dev/tensorflow/bert_en_cased_preprocess/3',\n",
        "    'small_bert/bert_en_uncased_L-2_H-128_A-2':\n",
        "        'https://tfhub.dev/tensorflow/bert_en_uncased_preprocess/3',\n",
        "    'small_bert/bert_en_uncased_L-2_H-256_A-4':\n",
        "        'https://tfhub.dev/tensorflow/bert_en_uncased_preprocess/3',\n",
        "    'small_bert/bert_en_uncased_L-2_H-512_A-8':\n",
        "        'https://tfhub.dev/tensorflow/bert_en_uncased_preprocess/3',\n",
        "    'small_bert/bert_en_uncased_L-2_H-768_A-12':\n",
        "        'https://tfhub.dev/tensorflow/bert_en_uncased_preprocess/3',\n",
        "    'small_bert/bert_en_uncased_L-4_H-128_A-2':\n",
        "        'https://tfhub.dev/tensorflow/bert_en_uncased_preprocess/3',\n",
        "    'small_bert/bert_en_uncased_L-4_H-256_A-4':\n",
        "        'https://tfhub.dev/tensorflow/bert_en_uncased_preprocess/3',\n",
        "    'small_bert/bert_en_uncased_L-4_H-512_A-8':\n",
        "        'https://tfhub.dev/tensorflow/bert_en_uncased_preprocess/3',\n",
        "    'small_bert/bert_en_uncased_L-4_H-768_A-12':\n",
        "        'https://tfhub.dev/tensorflow/bert_en_uncased_preprocess/3',\n",
        "    'small_bert/bert_en_uncased_L-6_H-128_A-2':\n",
        "        'https://tfhub.dev/tensorflow/bert_en_uncased_preprocess/3',\n",
        "    'small_bert/bert_en_uncased_L-6_H-256_A-4':\n",
        "        'https://tfhub.dev/tensorflow/bert_en_uncased_preprocess/3',\n",
        "    'small_bert/bert_en_uncased_L-6_H-512_A-8':\n",
        "        'https://tfhub.dev/tensorflow/bert_en_uncased_preprocess/3',\n",
        "    'small_bert/bert_en_uncased_L-6_H-768_A-12':\n",
        "        'https://tfhub.dev/tensorflow/bert_en_uncased_preprocess/3',\n",
        "    'small_bert/bert_en_uncased_L-8_H-128_A-2':\n",
        "        'https://tfhub.dev/tensorflow/bert_en_uncased_preprocess/3',\n",
        "    'small_bert/bert_en_uncased_L-8_H-256_A-4':\n",
        "        'https://tfhub.dev/tensorflow/bert_en_uncased_preprocess/3',\n",
        "    'small_bert/bert_en_uncased_L-8_H-512_A-8':\n",
        "        'https://tfhub.dev/tensorflow/bert_en_uncased_preprocess/3',\n",
        "    'small_bert/bert_en_uncased_L-8_H-768_A-12':\n",
        "        'https://tfhub.dev/tensorflow/bert_en_uncased_preprocess/3',\n",
        "    'small_bert/bert_en_uncased_L-10_H-128_A-2':\n",
        "        'https://tfhub.dev/tensorflow/bert_en_uncased_preprocess/3',\n",
        "    'small_bert/bert_en_uncased_L-10_H-256_A-4':\n",
        "        'https://tfhub.dev/tensorflow/bert_en_uncased_preprocess/3',\n",
        "    'small_bert/bert_en_uncased_L-10_H-512_A-8':\n",
        "        'https://tfhub.dev/tensorflow/bert_en_uncased_preprocess/3',\n",
        "    'small_bert/bert_en_uncased_L-10_H-768_A-12':\n",
        "        'https://tfhub.dev/tensorflow/bert_en_uncased_preprocess/3',\n",
        "    'small_bert/bert_en_uncased_L-12_H-128_A-2':\n",
        "        'https://tfhub.dev/tensorflow/bert_en_uncased_preprocess/3',\n",
        "    'small_bert/bert_en_uncased_L-12_H-256_A-4':\n",
        "        'https://tfhub.dev/tensorflow/bert_en_uncased_preprocess/3',\n",
        "    'small_bert/bert_en_uncased_L-12_H-512_A-8':\n",
        "        'https://tfhub.dev/tensorflow/bert_en_uncased_preprocess/3',\n",
        "    'small_bert/bert_en_uncased_L-12_H-768_A-12':\n",
        "        'https://tfhub.dev/tensorflow/bert_en_uncased_preprocess/3',\n",
        "    'bert_multi_cased_L-12_H-768_A-12':\n",
        "        'https://tfhub.dev/tensorflow/bert_multi_cased_preprocess/3',\n",
        "    'albert_en_base':\n",
        "        'https://tfhub.dev/tensorflow/albert_en_preprocess/3',\n",
        "    'electra_small':\n",
        "        'https://tfhub.dev/tensorflow/bert_en_uncased_preprocess/3',\n",
        "    'electra_base':\n",
        "        'https://tfhub.dev/tensorflow/bert_en_uncased_preprocess/3',\n",
        "    'experts_pubmed':\n",
        "        'https://tfhub.dev/tensorflow/bert_en_uncased_preprocess/3',\n",
        "    'experts_wiki_books':\n",
        "        'https://tfhub.dev/tensorflow/bert_en_uncased_preprocess/3',\n",
        "    'talking-heads_base':\n",
        "        'https://tfhub.dev/tensorflow/bert_en_uncased_preprocess/3',\n",
        "}\n",
        "\n",
        "tfhub_handle_encoder = map_name_to_handle[bert_model_name]\n",
        "tfhub_handle_preprocess = map_model_to_preprocess[bert_model_name]\n",
        "\n",
        "print(f'BERT model selected           : {tfhub_handle_encoder}')\n",
        "print(f'Preprocess model auto-selected: {tfhub_handle_preprocess}')"
      ]
    },
    {
      "cell_type": "markdown",
      "metadata": {
        "id": "7WrcxxTRDdHi"
      },
      "source": [
        "## O modelo de pré-processamento\n",
        "\n",
        "Os textos precissam ser tokenizados e distribuídos em tensores andtes de serem usados como input no BERT e esse processo é realizados por intermédio do modelo oferecido TensorFlow Hub.\n"
      ]
    },
    {
      "cell_type": "code",
      "execution_count": null,
      "metadata": {
        "id": "0SQi-jWd_jzq"
      },
      "outputs": [],
      "source": [
        "bert_preprocess_model = hub.KerasLayer(tfhub_handle_preprocess)"
      ]
    },
    {
      "cell_type": "code",
      "execution_count": null,
      "metadata": {
        "id": "r9-zCzJpnuwS",
        "colab": {
          "base_uri": "https://localhost:8080/"
        },
        "outputId": "ca369c66-2de6-47fa-a69f-a0c0eec45ec7"
      },
      "outputs": [
        {
          "output_type": "stream",
          "name": "stdout",
          "text": [
            "Keys       : ['input_word_ids', 'input_mask', 'input_type_ids']\n",
            "Shape      : (1, 128)\n",
            "Word Ids   : [  101 10531 10124 11049 10151 28149 19308 18379   106   102     0     0]\n",
            "Input Mask : [1 1 1 1 1 1 1 1 1 1 0 0]\n",
            "Type Ids   : [0 0 0 0 0 0 0 0 0 0 0 0]\n"
          ]
        }
      ],
      "source": [
        "text_test = ['this is such an amazing movie!']\n",
        "text_preprocessed = bert_preprocess_model(text_test)\n",
        "\n",
        "print(f'Keys       : {list(text_preprocessed.keys())}')\n",
        "print(f'Shape      : {text_preprocessed[\"input_word_ids\"].shape}')\n",
        "print(f'Word Ids   : {text_preprocessed[\"input_word_ids\"][0, :12]}')\n",
        "print(f'Input Mask : {text_preprocessed[\"input_mask\"][0, :12]}')\n",
        "print(f'Type Ids   : {text_preprocessed[\"input_type_ids\"][0, :12]}')"
      ]
    },
    {
      "cell_type": "markdown",
      "metadata": {
        "id": "EqL7ihkN_862"
      },
      "source": [
        "Acima é possível reparar nos 3 outputs esperados do pré-processamento do exemplo que o modelo BERT usa: `input_words_id`, `input_mask` e `input_type_ids`"
      ]
    },
    {
      "cell_type": "markdown",
      "metadata": {
        "id": "DKnLPSEmtp9i"
      },
      "source": [
        "## Using the BERT model\n",
        "\n",
        "Before putting BERT into your own model, let's take a look at its outputs. You will load it from TF Hub and see the returned values."
      ]
    },
    {
      "cell_type": "code",
      "execution_count": null,
      "metadata": {
        "id": "tXxYpK8ixL34"
      },
      "outputs": [],
      "source": [
        "bert_model = hub.KerasLayer(tfhub_handle_encoder)"
      ]
    },
    {
      "cell_type": "code",
      "execution_count": null,
      "metadata": {
        "id": "_OoF9mebuSZc",
        "colab": {
          "base_uri": "https://localhost:8080/"
        },
        "outputId": "74b2fb21-214f-4a7a-daa0-6c6395593b1b"
      },
      "outputs": [
        {
          "output_type": "stream",
          "name": "stdout",
          "text": [
            "Loaded BERT: https://tfhub.dev/tensorflow/bert_multi_cased_L-12_H-768_A-12/3\n",
            "Pooled Outputs Shape:(1, 768)\n",
            "Pooled Outputs Values:[ 0.60519487 -0.03552777  0.34871316 -0.41057843 -0.39155048  0.5288247\n",
            "  0.46310234  0.08746644 -0.47362712  0.35324594 -0.06718145 -0.27658606]\n",
            "Sequence Outputs Shape:(1, 128, 768)\n",
            "Sequence Outputs Values:[[-0.33080128  0.14664733 -0.06276229 ...  0.8445551  -0.12260156\n",
            "   0.7742447 ]\n",
            " [-0.8538985  -0.00957802 -0.10000923 ...  0.44030625 -0.23460379\n",
            "   0.67818195]\n",
            " [-0.7774555   0.4013224  -0.1754182  ...  0.7957414  -0.21563406\n",
            "   0.8150219 ]\n",
            " ...\n",
            " [-0.5392922   0.20764142  0.33515516 ...  0.5691235  -0.24136788\n",
            "   0.533913  ]\n",
            " [-0.5708683   0.10894397  0.18461339 ...  0.8669335  -0.16461505\n",
            "   0.56389666]\n",
            " [-0.5658122   0.10117672  0.17834006 ...  0.8056048  -0.11941095\n",
            "   0.53869265]]\n"
          ]
        }
      ],
      "source": [
        "bert_results = bert_model(text_preprocessed)\n",
        "\n",
        "print(f'Loaded BERT: {tfhub_handle_encoder}')\n",
        "print(f'Pooled Outputs Shape:{bert_results[\"pooled_output\"].shape}')\n",
        "print(f'Pooled Outputs Values:{bert_results[\"pooled_output\"][0, :12]}')\n",
        "print(f'Sequence Outputs Shape:{bert_results[\"sequence_output\"].shape}')\n",
        "print(f'Sequence Outputs Values:{bert_results[\"sequence_output\"][0, :12]}')"
      ]
    },
    {
      "cell_type": "markdown",
      "metadata": {
        "id": "pDNKfAXbDnJH"
      },
      "source": [
        "## Definindo o modelo\n",
        "\n"
      ]
    },
    {
      "cell_type": "code",
      "execution_count": null,
      "metadata": {
        "id": "aksj743St9ga"
      },
      "outputs": [],
      "source": [
        "def build_classifier_model():\n",
        "    text_input = tf.keras.layers.Input(shape=(), dtype=tf.string, name='text')\n",
        "    preprocessing_layer = hub.KerasLayer(tfhub_handle_preprocess, name='preprocessing')\n",
        "    encoder_inputs = preprocessing_layer(text_input)\n",
        "    encoder = hub.KerasLayer(tfhub_handle_encoder, trainable=True, name='BERT_encoder')\n",
        "    outputs = encoder(encoder_inputs)\n",
        "    net = outputs['pooled_output']\n",
        "    net = tf.keras.layers.Dropout(0.1)(net)\n",
        "    net = tf.keras.layers.Dense(num_classes, activation='softmax', name=\"classifier\")(net)\n",
        "    return tf.keras.Model(text_input, net)\n",
        "\n",
        "def balanced_recall(y_true, y_pred):\n",
        "    \"\"\"This function calculates the balanced recall metric\n",
        "    recall = TP / (TP + FN)\n",
        "    \"\"\"\n",
        "    recall_by_class = 0\n",
        "    # iterate over each predicted class to get class-specific metric\n",
        "    for i in range(y_pred.shape[1]):\n",
        "        y_pred_class = y_pred[:, i]\n",
        "        y_true_class = y_true[:, i]\n",
        "        true_positives = K.sum(K.round(K.clip(y_true_class * y_pred_class, 0, 1)))\n",
        "        possible_positives = K.sum(K.round(K.clip(y_true_class, 0, 1)))\n",
        "        recall = true_positives / (possible_positives + K.epsilon())\n",
        "        recall_by_class = recall_by_class + recall\n",
        "    return recall_by_class / y_pred.shape[1]\n",
        "\n",
        "def balanced_precision(y_true, y_pred):\n",
        "    \"\"\"This function calculates the balanced precision metric\n",
        "    precision = TP / (TP + FP)\n",
        "    \"\"\"\n",
        "    precision_by_class = 0\n",
        "    # iterate over each predicted class to get class-specific metric\n",
        "    for i in range(y_pred.shape[1]):\n",
        "        y_pred_class = y_pred[:, i]\n",
        "        y_true_class = y_true[:, i]\n",
        "        true_positives = K.sum(K.round(K.clip(y_true_class * y_pred_class, 0, 1)))\n",
        "        predicted_positives = K.sum(K.round(K.clip(y_pred_class, 0, 1)))\n",
        "        precision = true_positives / (predicted_positives + K.epsilon())\n",
        "        precision_by_class = precision_by_class + precision\n",
        "    # return average balanced metric for each class\n",
        "    return precision_by_class / y_pred.shape[1]\n",
        "\n",
        "def balanced_f1_score(y_true, y_pred):\n",
        "    \"\"\"This function calculates the F1 score metric\"\"\"\n",
        "    precision = balanced_precision(y_true, y_pred)\n",
        "    recall = balanced_recall(y_true, y_pred)\n",
        "    return 2 * ((precision * recall) / (precision + recall + K.epsilon()))  "
      ]
    },
    {
      "cell_type": "code",
      "execution_count": null,
      "metadata": {
        "id": "mGMF8AZcB2Zy",
        "colab": {
          "base_uri": "https://localhost:8080/"
        },
        "outputId": "cbc888cc-c83a-47b4-ef75-15bc0f4eebcf"
      },
      "outputs": [
        {
          "output_type": "stream",
          "name": "stdout",
          "text": [
            "tf.Tensor([[0.5746568  0.5790288  0.59395397]], shape=(1, 3), dtype=float32)\n"
          ]
        }
      ],
      "source": [
        "classifier_model = build_classifier_model()\n",
        "bert_raw_result = classifier_model(tf.constant(text_test))\n",
        "print(tf.sigmoid(bert_raw_result))"
      ]
    },
    {
      "cell_type": "markdown",
      "source": [
        "### Estrutura do modelo"
      ],
      "metadata": {
        "id": "D_TY5XXL32Or"
      }
    },
    {
      "cell_type": "code",
      "execution_count": null,
      "metadata": {
        "id": "0EmzyHZXKIpm",
        "colab": {
          "base_uri": "https://localhost:8080/",
          "height": 466
        },
        "outputId": "155693e9-3044-4f58-d7ee-82311bcafd49"
      },
      "outputs": [
        {
          "output_type": "execute_result",
          "data": {
            "image/png": "[encoded data removed]",
            "text/plain": [
              "<IPython.core.display.Image object>"
            ]
          },
          "metadata": {},
          "execution_count": 13
        }
      ],
      "source": [
        "tf.keras.utils.plot_model(classifier_model)"
      ]
    },
    {
      "cell_type": "markdown",
      "metadata": {
        "id": "WbUWoZMwc302"
      },
      "source": [
        "## Treinamento do modelo"
      ]
    },
    {
      "cell_type": "markdown",
      "metadata": {
        "id": "WpJ3xcwDT56v"
      },
      "source": [
        "### Função de perda (loss)\n",
        "\n",
        "Por ser um problema para categorizar uma quantidade maior que duas classes, ou seja, por nao ser um problema de resolução binária, foi utilizado a função de perda `losses.CategoricalCrossentropy`.\n"
      ]
    },
    {
      "cell_type": "code",
      "execution_count": null,
      "metadata": {
        "id": "OWPOZE-L3AgE"
      },
      "outputs": [],
      "source": [
        "loss = tf.keras.losses.CategoricalCrossentropy()\n",
        "metrics = [\n",
        "      tf.keras.metrics.CategoricalAccuracy(name=\"accuracy\"),\n",
        "      balanced_recall,\n",
        "      balanced_precision,\n",
        "      balanced_f1_score\n",
        "]"
      ]
    },
    {
      "cell_type": "markdown",
      "metadata": {
        "id": "77psrpfzbxtp"
      },
      "source": [
        "### Otimizador\n",
        "\n",
        "Para a etapa de fine-tuning, foi utilizado o mesmo otimizador que o BERT foi  originalmente trainado com: the \"Adaptive Moments\" (Adam). Esse otimizador minimiza a perda da prediçãoe faz a regularização pelo método de decaimento de peso, também conhecido como [AdamW](https://arxiv.org/abs/1711.05101)."
      ]
    },
    {
      "cell_type": "code",
      "execution_count": null,
      "metadata": {
        "id": "P9eP2y9dbw32"
      },
      "outputs": [],
      "source": [
        "epochs = 30\n",
        "steps_per_epoch = len(x_train)\n",
        "num_train_steps = steps_per_epoch * epochs\n",
        "num_warmup_steps = int(0.1*num_train_steps)\n",
        "\n",
        "init_lr = 3e-5\n",
        "optimizer = optimization.create_optimizer(init_lr=init_lr,\n",
        "                                          num_train_steps=num_train_steps,\n",
        "                                          num_warmup_steps=num_warmup_steps,\n",
        "                                          optimizer_type='adamw')"
      ]
    },
    {
      "cell_type": "markdown",
      "metadata": {
        "id": "SqlarlpC_v0g"
      },
      "source": [
        "### Carregando o modelo BERT e treinando"
      ]
    },
    {
      "cell_type": "code",
      "execution_count": null,
      "metadata": {
        "id": "-7GPDhR98jsD",
        "colab": {
          "base_uri": "https://localhost:8080/"
        },
        "outputId": "43e9315e-d11e-410c-bfc8-861c48cb30b5"
      },
      "outputs": [
        {
          "output_type": "stream",
          "name": "stdout",
          "text": [
            "Model: \"model\"\n",
            "__________________________________________________________________________________________________\n",
            " Layer (type)                   Output Shape         Param #     Connected to                     \n",
            "==================================================================================================\n",
            " text (InputLayer)              [(None,)]            0           []                               \n",
            "                                                                                                  \n",
            " preprocessing (KerasLayer)     {'input_word_ids':   0           ['text[0][0]']                   \n",
            "                                (None, 128),                                                      \n",
            "                                 'input_mask': (Non                                               \n",
            "                                e, 128),                                                          \n",
            "                                 'input_type_ids':                                                \n",
            "                                (None, 128)}                                                      \n",
            "                                                                                                  \n",
            " BERT_encoder (KerasLayer)      {'sequence_output':  177853441   ['preprocessing[0][0]',          \n",
            "                                 (None, 128, 768),                'preprocessing[0][1]',          \n",
            "                                 'encoder_outputs':               'preprocessing[0][2]']          \n",
            "                                 [(None, 128, 768),                                               \n",
            "                                 (None, 128, 768),                                                \n",
            "                                 (None, 128, 768),                                                \n",
            "                                 (None, 128, 768),                                                \n",
            "                                 (None, 128, 768),                                                \n",
            "                                 (None, 128, 768),                                                \n",
            "                                 (None, 128, 768),                                                \n",
            "                                 (None, 128, 768),                                                \n",
            "                                 (None, 128, 768),                                                \n",
            "                                 (None, 128, 768),                                                \n",
            "                                 (None, 128, 768),                                                \n",
            "                                 (None, 128, 768)],                                               \n",
            "                                 'default': (None,                                                \n",
            "                                768),                                                             \n",
            "                                 'pooled_output': (                                               \n",
            "                                None, 768)}                                                       \n",
            "                                                                                                  \n",
            " dropout (Dropout)              (None, 768)          0           ['BERT_encoder[0][13]']          \n",
            "                                                                                                  \n",
            " classifier (Dense)             (None, 3)            2307        ['dropout[0][0]']                \n",
            "                                                                                                  \n",
            "==================================================================================================\n",
            "Total params: 177,855,748\n",
            "Trainable params: 177,855,747\n",
            "Non-trainable params: 1\n",
            "__________________________________________________________________________________________________\n"
          ]
        }
      ],
      "source": [
        "classifier_model.compile(optimizer=optimizer,\n",
        "                         loss=loss,\n",
        "                         metrics=metrics)\n",
        "\n",
        "classifier_model.summary()"
      ]
    },
    {
      "cell_type": "code",
      "source": [
        "[print(i.shape, i.dtype) for i in classifier_model.inputs]\n",
        "[print(o.shape, o.dtype) for o in classifier_model.outputs]\n",
        "[print(l.name, l.input_shape, l.dtype) for l in classifier_model.layers]\n",
        "\n",
        "fx_train = np.asarray(x_train).astype(np.str_)\n",
        "fx_test = np.asarray(x_test).astype(np.str_)\n",
        "fy_train = np.asarray(y_train).astype(np.float32)\n",
        "fy_test = np.asarray(y_test).astype(np.float32)"
      ],
      "metadata": {
        "colab": {
          "base_uri": "https://localhost:8080/"
        },
        "id": "guI0aO-8pWMP",
        "outputId": "71443b33-00bc-4eb4-f87c-5cd90bba5a54"
      },
      "execution_count": null,
      "outputs": [
        {
          "output_type": "stream",
          "name": "stdout",
          "text": [
            "(None,) <dtype: 'string'>\n",
            "(None, 3) <dtype: 'float32'>\n",
            "text [(None,)] string\n",
            "preprocessing None float32\n",
            "BERT_encoder {'input_word_ids': (None, 128), 'input_mask': (None, 128), 'input_type_ids': (None, 128)} float32\n",
            "dropout (None, 768) float32\n",
            "classifier (None, 768) float32\n"
          ]
        }
      ]
    },
    {
      "cell_type": "code",
      "source": [
        "earlystop_callback = tf.keras.callbacks.EarlyStopping(monitor = \"val_loss\", \n",
        "                                                      patience = 5,\n",
        "                                                      restore_best_weights = True)"
      ],
      "metadata": {
        "id": "Ff9Fif0spY5C"
      },
      "execution_count": null,
      "outputs": []
    },
    {
      "cell_type": "code",
      "execution_count": null,
      "metadata": {
        "id": "HtfDFAnN_Neu",
        "colab": {
          "base_uri": "https://localhost:8080/"
        },
        "outputId": "6cdb3211-5316-4310-b095-5863649325d9"
      },
      "outputs": [
        {
          "output_type": "stream",
          "name": "stdout",
          "text": [
            "Training model with https://tfhub.dev/tensorflow/bert_multi_cased_L-12_H-768_A-12/3\n",
            "Epoch 1/30\n",
            "22/22 [==============================] - 25s 296ms/step - loss: 1.1844 - accuracy: 0.1614 - balanced_recall: 0.0000e+00 - balanced_precision: 0.0000e+00 - balanced_f1_score: 0.0000e+00 - val_loss: 1.1551 - val_accuracy: 0.0700 - val_balanced_recall: 0.0000e+00 - val_balanced_precision: 0.0000e+00 - val_balanced_f1_score: 0.0000e+00\n",
            "Epoch 2/30\n",
            "22/22 [==============================] - 4s 206ms/step - loss: 1.0949 - accuracy: 0.3343 - balanced_recall: 0.0015 - balanced_precision: 0.0303 - balanced_f1_score: 0.0028 - val_loss: 1.0193 - val_accuracy: 0.6400 - val_balanced_recall: 0.0000e+00 - val_balanced_precision: 0.0000e+00 - val_balanced_f1_score: 0.0000e+00\n",
            "Epoch 3/30\n",
            "22/22 [==============================] - 4s 202ms/step - loss: 0.9250 - accuracy: 0.6171 - balanced_recall: 0.0523 - balanced_precision: 0.1935 - balanced_f1_score: 0.0757 - val_loss: 0.8077 - val_accuracy: 0.7300 - val_balanced_recall: 0.1780 - val_balanced_precision: 0.2637 - val_balanced_f1_score: 0.2104\n",
            "Epoch 4/30\n",
            "22/22 [==============================] - 4s 202ms/step - loss: 0.7545 - accuracy: 0.6843 - balanced_recall: 0.2425 - balanced_precision: 0.2506 - balanced_f1_score: 0.2400 - val_loss: 0.6484 - val_accuracy: 0.7300 - val_balanced_recall: 0.3333 - val_balanced_precision: 0.2436 - val_balanced_f1_score: 0.2810\n",
            "Epoch 5/30\n",
            "22/22 [==============================] - 4s 202ms/step - loss: 0.6529 - accuracy: 0.6971 - balanced_recall: 0.3292 - balanced_precision: 0.2643 - balanced_f1_score: 0.2872 - val_loss: 0.5672 - val_accuracy: 0.7433 - val_balanced_recall: 0.3375 - val_balanced_precision: 0.2826 - val_balanced_f1_score: 0.3021\n",
            "Epoch 6/30\n",
            "22/22 [==============================] - 4s 202ms/step - loss: 0.5723 - accuracy: 0.7386 - balanced_recall: 0.3872 - balanced_precision: 0.4510 - balanced_f1_score: 0.4116 - val_loss: 0.5041 - val_accuracy: 0.7500 - val_balanced_recall: 0.3761 - val_balanced_precision: 0.3990 - val_balanced_f1_score: 0.3829\n",
            "Epoch 7/30\n",
            "22/22 [==============================] - 4s 201ms/step - loss: 0.5304 - accuracy: 0.7600 - balanced_recall: 0.4282 - balanced_precision: 0.4813 - balanced_f1_score: 0.4517 - val_loss: 0.4768 - val_accuracy: 0.7767 - val_balanced_recall: 0.4352 - val_balanced_precision: 0.4899 - val_balanced_f1_score: 0.4605\n",
            "Epoch 8/30\n",
            "22/22 [==============================] - 4s 202ms/step - loss: 0.4956 - accuracy: 0.7829 - balanced_recall: 0.4585 - balanced_precision: 0.5047 - balanced_f1_score: 0.4797 - val_loss: 0.4666 - val_accuracy: 0.7867 - val_balanced_recall: 0.4628 - val_balanced_precision: 0.4946 - val_balanced_f1_score: 0.4776\n",
            "Epoch 9/30\n",
            "22/22 [==============================] - 4s 183ms/step - loss: 0.4614 - accuracy: 0.7986 - balanced_recall: 0.4844 - balanced_precision: 0.5298 - balanced_f1_score: 0.5048 - val_loss: 0.4784 - val_accuracy: 0.7867 - val_balanced_recall: 0.4786 - val_balanced_precision: 0.4978 - val_balanced_f1_score: 0.4874\n",
            "Epoch 10/30\n",
            "22/22 [==============================] - 4s 183ms/step - loss: 0.4220 - accuracy: 0.8129 - balanced_recall: 0.4988 - balanced_precision: 0.5433 - balanced_f1_score: 0.5191 - val_loss: 0.4717 - val_accuracy: 0.8000 - val_balanced_recall: 0.4417 - val_balanced_precision: 0.5355 - val_balanced_f1_score: 0.4819\n",
            "Epoch 11/30\n",
            "22/22 [==============================] - 4s 200ms/step - loss: 0.3894 - accuracy: 0.8271 - balanced_recall: 0.5072 - balanced_precision: 0.5473 - balanced_f1_score: 0.5253 - val_loss: 0.4632 - val_accuracy: 0.8000 - val_balanced_recall: 0.4533 - val_balanced_precision: 0.5139 - val_balanced_f1_score: 0.4804\n",
            "Epoch 12/30\n",
            "22/22 [==============================] - 4s 183ms/step - loss: 0.3279 - accuracy: 0.8657 - balanced_recall: 0.5345 - balanced_precision: 0.5835 - balanced_f1_score: 0.5570 - val_loss: 0.5276 - val_accuracy: 0.7767 - val_balanced_recall: 0.4740 - val_balanced_precision: 0.4817 - val_balanced_f1_score: 0.4776\n",
            "Epoch 13/30\n",
            "22/22 [==============================] - 4s 183ms/step - loss: 0.2936 - accuracy: 0.8829 - balanced_recall: 0.5609 - balanced_precision: 0.5846 - balanced_f1_score: 0.5720 - val_loss: 0.5261 - val_accuracy: 0.8100 - val_balanced_recall: 0.4757 - val_balanced_precision: 0.5260 - val_balanced_f1_score: 0.4985\n",
            "Epoch 14/30\n",
            "22/22 [==============================] - 4s 184ms/step - loss: 0.2556 - accuracy: 0.9014 - balanced_recall: 0.5782 - balanced_precision: 0.6000 - balanced_f1_score: 0.5883 - val_loss: 0.5609 - val_accuracy: 0.7967 - val_balanced_recall: 0.4786 - val_balanced_precision: 0.5037 - val_balanced_f1_score: 0.4903\n",
            "Epoch 15/30\n",
            "22/22 [==============================] - 4s 187ms/step - loss: 0.1963 - accuracy: 0.9243 - balanced_recall: 0.6005 - balanced_precision: 0.6193 - balanced_f1_score: 0.6091 - val_loss: 0.6574 - val_accuracy: 0.7967 - val_balanced_recall: 0.4522 - val_balanced_precision: 0.5156 - val_balanced_f1_score: 0.4812\n",
            "Epoch 16/30\n",
            "22/22 [==============================] - 4s 199ms/step - loss: 0.1675 - accuracy: 0.9329 - balanced_recall: 0.5982 - balanced_precision: 0.6271 - balanced_f1_score: 0.6117 - val_loss: 0.9919 - val_accuracy: 0.7067 - val_balanced_recall: 0.4787 - val_balanced_precision: 0.4572 - val_balanced_f1_score: 0.4677\n"
          ]
        }
      ],
      "source": [
        "print(f'Training model with {tfhub_handle_encoder}')\n",
        "history = classifier_model.fit(fx_train, fy_train,\n",
        "                               epochs=epochs,\n",
        "                               validation_data=(fx_test, fy_test),\n",
        "                               callbacks = [earlystop_callback])"
      ]
    },
    {
      "cell_type": "markdown",
      "metadata": {
        "id": "uBthMlTSV8kn"
      },
      "source": [
        "### Avaliação do modelo\n",
        "\n",
        "Performance do modelo"
      ]
    },
    {
      "cell_type": "code",
      "source": [
        "metric_list = list(history.history.keys())\n",
        "num_metrics = int(len(metric_list)/2)\n",
        "\n",
        "fig, ax = plt.subplots(nrows=1, ncols=num_metrics, figsize=(30, 5))\n",
        "\n",
        "for i in range(0, num_metrics):\n",
        "  x = list(range(1, len(history.history[metric_list[i]])+1))\n",
        "  ax[i].plot(x, history.history[metric_list[i]], marker=\"o\", label=metric_list[i].replace(\"_\", \" \"))\n",
        "  ax[i].plot(x, history.history[metric_list[i+num_metrics]], marker=\"o\", label=metric_list[i+num_metrics].replace(\"_\", \" \"))\n",
        "  ax[i].set_xlabel(\"epochs\",fontsize=14)\n",
        "  ax[i].set_title(metric_list[i].replace(\"_\", \" \"),fontsize=20)\n",
        "  ax[i].legend(loc=\"lower left\")"
      ],
      "metadata": {
        "colab": {
          "base_uri": "https://localhost:8080/",
          "height": 248
        },
        "id": "5EPFMZN4taDE",
        "outputId": "177c3cf1-f870-42b3-e89a-3e56f767ea1b"
      },
      "execution_count": null,
      "outputs": [
        {
          "output_type": "display_data",
          "data": {
            "text/plain": [
              "<Figure size 2160x360 with 5 Axes>"
            ],
            "image/png": "[encoded data removed]"
          },
          "metadata": {
            "needs_background": "light"
          }
        }
      ]
    },
    {
      "cell_type": "code",
      "execution_count": null,
      "metadata": {
        "id": "slqB-urBV9sP",
        "colab": {
          "base_uri": "https://localhost:8080/"
        },
        "outputId": "848f9ecf-b397-40bd-f986-30defeb16d18"
      },
      "outputs": [
        {
          "output_type": "stream",
          "name": "stdout",
          "text": [
            "10/10 [==============================] - 1s 65ms/step - loss: 0.4632 - accuracy: 0.8000 - balanced_recall: 0.4533 - balanced_precision: 0.5139 - balanced_f1_score: 0.4804\n",
            "loss: 0.463202565908432\n",
            "accuracy: 0.800000011920929\n",
            "balanced_recall: 0.4533030092716217\n",
            "balanced_precision: 0.5138978362083435\n",
            "balanced_f1_score: 0.480419397354126\n"
          ]
        }
      ],
      "source": [
        "results = dict(zip(classifier_model.metrics_names, classifier_model.evaluate(fx_test, fy_test)))\n",
        "for criteria, value in results.items():\n",
        "    print(f'{criteria}: {value}')"
      ]
    },
    {
      "cell_type": "markdown",
      "source": [
        "####Matriz de Confusão"
      ],
      "metadata": {
        "id": "diEI0t-c7HaH"
      }
    },
    {
      "cell_type": "code",
      "source": [
        "fy_pred = np.argmax(classifier_model.predict(fx_test), axis=1)\n",
        "cm = confusion_matrix(np.argmax(fy_test, axis=1), fy_pred)\n",
        "\n",
        "disp = ConfusionMatrixDisplay(confusion_matrix=cm, display_labels=['Nocivo', 'Protetor', 'Geral'])\n",
        "\n",
        "disp.plot(cmap=plt.cm.Blues)\n",
        "plt.show()"
      ],
      "metadata": {
        "colab": {
          "base_uri": "https://localhost:8080/",
          "height": 296
        },
        "id": "GZzG9uDE4rTe",
        "outputId": "8092dd0f-dcb6-42e6-8175-2bc981b60ed1"
      },
      "execution_count": null,
      "outputs": [
        {
          "output_type": "stream",
          "name": "stdout",
          "text": [
            "10/10 [==============================] - 1s 63ms/step\n"
          ]
        },
        {
          "output_type": "display_data",
          "data": {
            "text/plain": [
              "<Figure size 432x288 with 2 Axes>"
            ],
            "image/png": "[encoded data removed]"
          },
          "metadata": {
            "needs_background": "light"
          }
        }
      ]
    },
    {
      "cell_type": "markdown",
      "metadata": {
        "id": "uttWpgmSfzq9"
      },
      "source": [
        "### Gráfico da acurácia e da perda em relação ao tempo\n",
        "\n",
        "Baseado no objeto `History` retornado pelo `model.fit()`. "
      ]
    },
    {
      "cell_type": "code",
      "execution_count": null,
      "metadata": {
        "id": "fiythcODf0xo",
        "colab": {
          "base_uri": "https://localhost:8080/",
          "height": 459
        },
        "outputId": "fd9fc99d-f22a-42fd-f0a9-d33181403b69"
      },
      "outputs": [
        {
          "output_type": "stream",
          "name": "stdout",
          "text": [
            "dict_keys(['loss', 'accuracy', 'balanced_recall', 'balanced_precision', 'balanced_f1_score', 'val_loss', 'val_accuracy', 'val_balanced_recall', 'val_balanced_precision', 'val_balanced_f1_score'])\n"
          ]
        },
        {
          "output_type": "execute_result",
          "data": {
            "text/plain": [
              "<matplotlib.legend.Legend at 0x7fb53aad4fd0>"
            ]
          },
          "metadata": {},
          "execution_count": 23
        },
        {
          "output_type": "display_data",
          "data": {
            "text/plain": [
              "<Figure size 720x432 with 2 Axes>"
            ],
            "image/png": "[encoded data removed]"
          },
          "metadata": {
            "needs_background": "light"
          }
        }
      ],
      "source": [
        "history_dict = history.history\n",
        "print(history_dict.keys())\n",
        "\n",
        "acc = history_dict['accuracy']\n",
        "val_acc = history_dict['val_accuracy']\n",
        "loss = history_dict['loss']\n",
        "val_loss = history_dict['val_loss']\n",
        "\n",
        "epochs = range(1, len(acc) + 1)\n",
        "fig = plt.figure(figsize=(10, 6))\n",
        "fig.tight_layout()\n",
        "\n",
        "plt.subplot(2, 1, 1)\n",
        "# r is for \"solid red line\"\n",
        "plt.plot(epochs, loss, 'r', label='Training loss')\n",
        "# b is for \"solid blue line\"\n",
        "plt.plot(epochs, val_loss, 'b', label='Validation loss')\n",
        "plt.title('Training and validation loss')\n",
        "# plt.xlabel('Epochs')\n",
        "plt.ylabel('Loss')\n",
        "plt.legend()\n",
        "\n",
        "plt.subplot(2, 1, 2)\n",
        "plt.plot(epochs, acc, 'r', label='Training acc')\n",
        "plt.plot(epochs, val_acc, 'b', label='Validation acc')\n",
        "plt.title('Training and validation accuracy')\n",
        "plt.xlabel('Epochs')\n",
        "plt.ylabel('Accuracy')\n",
        "plt.legend(loc='lower right')"
      ]
    },
    {
      "cell_type": "markdown",
      "metadata": {
        "id": "WzJZCo-cf-Jf"
      },
      "source": [
        "As linhas vermelhas representam a perda e acurácia no treinamento e as linhas azuis a perda e acurácia na validação"
      ]
    }
  ],
  "metadata": {
    "colab": {
      "provenance": [],
      "name": "ml_tcc.ipynb",
      "include_colab_link": true
    },
    "kernelspec": {
      "display_name": "Python 3",
      "name": "python3"
    },
    "accelerator": "GPU",
    "gpuClass": "premium"
  },
  "nbformat": 4,
  "nbformat_minor": 0
}