{
  "cells": [
    {
      "cell_type": "code",
      "execution_count": 1,
      "metadata": {
        "colab": {
          "base_uri": "https://localhost:8080/"
        },
        "id": "JvS2sFa4AtdP",
        "outputId": "86a14cd0-a7c5-44df-e470-33e06d35b893"
      },
      "outputs": [
        {
          "name": "stdout",
          "output_type": "stream",
          "text": [
            "Requirement already satisfied: emoji in c:\\python310\\lib\\site-packages (2.2.0)\n",
            "Note: you may need to restart the kernel to use updated packages.\n"
          ]
        },
        {
          "name": "stderr",
          "output_type": "stream",
          "text": [
            "WARNING: Ignoring invalid distribution -ip (c:\\python310\\lib\\site-packages)\n",
            "WARNING: Ignoring invalid distribution -ip (c:\\python310\\lib\\site-packages)\n",
            "WARNING: Ignoring invalid distribution -ip (c:\\python310\\lib\\site-packages)\n",
            "WARNING: Ignoring invalid distribution -ip (c:\\python310\\lib\\site-packages)\n",
            "WARNING: Ignoring invalid distribution -ip (c:\\python310\\lib\\site-packages)\n",
            "WARNING: Ignoring invalid distribution -ip (c:\\python310\\lib\\site-packages)\n"
          ]
        }
      ],
      "source": [
        "pip install emoji --upgrade"
      ]
    },
    {
      "cell_type": "code",
      "execution_count": 2,
      "metadata": {},
      "outputs": [
        {
          "name": "stdout",
          "output_type": "stream",
          "text": [
            "Requirement already satisfied: Unidecode==0.04.1 in c:\\python310\\lib\\site-packages (0.4.1)\n",
            "Note: you may need to restart the kernel to use updated packages.\n"
          ]
        },
        {
          "name": "stderr",
          "output_type": "stream",
          "text": [
            "WARNING: Ignoring invalid distribution -ip (c:\\python310\\lib\\site-packages)\n",
            "WARNING: Ignoring invalid distribution -ip (c:\\python310\\lib\\site-packages)\n",
            "WARNING: Ignoring invalid distribution -ip (c:\\python310\\lib\\site-packages)\n",
            "WARNING: Ignoring invalid distribution -ip (c:\\python310\\lib\\site-packages)\n",
            "WARNING: Ignoring invalid distribution -ip (c:\\python310\\lib\\site-packages)\n",
            "WARNING: Ignoring invalid distribution -ip (c:\\python310\\lib\\site-packages)\n"
          ]
        }
      ],
      "source": [
        "pip install Unidecode==0.04.1"
      ]
    },
    {
      "cell_type": "code",
      "execution_count": 5,
      "metadata": {},
      "outputs": [
        {
          "name": "stdout",
          "output_type": "stream",
          "text": [
            "Collecting transformers==2.1.0\n",
            "  Using cached transformers-2.1.0-py3-none-any.whl (313 kB)\n",
            "Requirement already satisfied: requests in c:\\python310\\lib\\site-packages (from transformers==2.1.0) (2.28.1)\n",
            "Requirement already satisfied: numpy in c:\\python310\\lib\\site-packages (from transformers==2.1.0) (1.23.4)\n",
            "Collecting boto3\n",
            "  Using cached boto3-1.26.6-py3-none-any.whl (132 kB)\n",
            "Requirement already satisfied: tqdm in c:\\python310\\lib\\site-packages (from transformers==2.1.0) (4.64.1)\n",
            "Requirement already satisfied: sentencepiece in c:\\python310\\lib\\site-packages (from transformers==2.1.0) (0.1.97)\n",
            "Requirement already satisfied: regex in c:\\python310\\lib\\site-packages (from transformers==2.1.0) (2022.10.31)\n",
            "Requirement already satisfied: sacremoses in c:\\python310\\lib\\site-packages (from transformers==2.1.0) (0.0.53)\n",
            "Collecting s3transfer<0.7.0,>=0.6.0\n",
            "  Using cached s3transfer-0.6.0-py3-none-any.whl (79 kB)\n",
            "Collecting botocore<1.30.0,>=1.29.6\n",
            "  Using cached botocore-1.29.6-py3-none-any.whl (9.9 MB)\n",
            "Requirement already satisfied: jmespath<2.0.0,>=0.7.1 in c:\\python310\\lib\\site-packages (from boto3->transformers==2.1.0) (1.0.1)\n",
            "Requirement already satisfied: certifi>=2017.4.17 in c:\\python310\\lib\\site-packages (from requests->transformers==2.1.0) (2022.9.24)\n",
            "Requirement already satisfied: charset-normalizer<3,>=2 in c:\\python310\\lib\\site-packages (from requests->transformers==2.1.0) (2.1.1)\n",
            "Requirement already satisfied: urllib3<1.27,>=1.21.1 in c:\\python310\\lib\\site-packages (from requests->transformers==2.1.0) (1.26.12)\n",
            "Requirement already satisfied: idna<4,>=2.5 in c:\\python310\\lib\\site-packages (from requests->transformers==2.1.0) (3.4)\n",
            "Requirement already satisfied: six in c:\\python310\\lib\\site-packages (from sacremoses->transformers==2.1.0) (1.16.0)\n",
            "Requirement already satisfied: joblib in c:\\python310\\lib\\site-packages (from sacremoses->transformers==2.1.0) (1.2.0)\n",
            "Requirement already satisfied: click in c:\\python310\\lib\\site-packages (from sacremoses->transformers==2.1.0) (8.1.3)\n",
            "Requirement already satisfied: colorama in c:\\users\\zelia\\appdata\\roaming\\python\\python310\\site-packages (from tqdm->transformers==2.1.0) (0.4.6)\n",
            "Requirement already satisfied: python-dateutil<3.0.0,>=2.1 in c:\\python310\\lib\\site-packages (from botocore<1.30.0,>=1.29.6->boto3->transformers==2.1.0) (2.8.2)\n",
            "Installing collected packages: botocore, s3transfer, boto3, transformers\n",
            "Note: you may need to restart the kernel to use updated packages.\n"
          ]
        },
        {
          "name": "stderr",
          "output_type": "stream",
          "text": [
            "WARNING: Ignoring invalid distribution -ip (c:\\python310\\lib\\site-packages)\n",
            "WARNING: Ignoring invalid distribution -ip (c:\\python310\\lib\\site-packages)\n",
            "WARNING: Ignoring invalid distribution -ip (c:\\python310\\lib\\site-packages)\n",
            "  WARNING: Failed to write executable - trying to use .deleteme logic\n",
            "ERROR: Could not install packages due to an OSError: [WinError 2] O sistema não pode encontrar o arquivo especificado: 'c:\\\\Python310\\\\Scripts\\\\transformers.exe' -> 'c:\\\\Python310\\\\Scripts\\\\transformers.exe.deleteme'\n",
            "\n",
            "WARNING: Ignoring invalid distribution -ip (c:\\python310\\lib\\site-packages)\n",
            "WARNING: Ignoring invalid distribution -ip (c:\\python310\\lib\\site-packages)\n",
            "WARNING: Ignoring invalid distribution -ip (c:\\python310\\lib\\site-packages)\n"
          ]
        }
      ],
      "source": [
        "%pip install transformers==2.1.0"
      ]
    },
    {
      "cell_type": "code",
      "execution_count": 6,
      "metadata": {
        "id": "GxaaxWdIS5Hf"
      },
      "outputs": [
        {
          "name": "stderr",
          "output_type": "stream",
          "text": [
            "To use data.metrics please install scikit-learn. See https://scikit-learn.org/stable/index.html\n",
            "Neither PyTorch nor TensorFlow >= 2.0 have been found.Models won't be available and only tokenizers, configurationand file/data utilities can be used.\n"
          ]
        }
      ],
      "source": [
        "import pandas as pd \n",
        "import re\n",
        "import emoji\n",
        "import unidecode\n",
        "from transformers import BertTokenizer"
      ]
    },
    {
      "cell_type": "code",
      "execution_count": 4,
      "metadata": {
        "colab": {
          "base_uri": "https://localhost:8080/",
          "height": 424
        },
        "id": "f5xLPy4Z73OZ",
        "outputId": "eb5be437-db99-48ba-d3a7-ba0ae1268878"
      },
      "outputs": [
        {
          "data": {
            "text/html": [
              "<div>\n",
              "<style scoped>\n",
              "    .dataframe tbody tr th:only-of-type {\n",
              "        vertical-align: middle;\n",
              "    }\n",
              "\n",
              "    .dataframe tbody tr th {\n",
              "        vertical-align: top;\n",
              "    }\n",
              "\n",
              "    .dataframe thead th {\n",
              "        text-align: right;\n",
              "    }\n",
              "</style>\n",
              "<table border=\"1\" class=\"dataframe\">\n",
              "  <thead>\n",
              "    <tr style=\"text-align: right;\">\n",
              "      <th></th>\n",
              "      <th>classe</th>\n",
              "      <th>id</th>\n",
              "      <th>texto</th>\n",
              "    </tr>\n",
              "  </thead>\n",
              "  <tbody>\n",
              "    <tr>\n",
              "      <th>0</th>\n",
              "      <td>1</td>\n",
              "      <td>1093326657560240128</td>\n",
              "      <td>@giucarv papo de eu cometer suicídio</td>\n",
              "    </tr>\n",
              "    <tr>\n",
              "      <th>1</th>\n",
              "      <td>3</td>\n",
              "      <td>1111287234572009472</td>\n",
              "      <td>@chegueste tá a cara do suicídio hoje</td>\n",
              "    </tr>\n",
              "    <tr>\n",
              "      <th>2</th>\n",
              "      <td>3</td>\n",
              "      <td>1189370037037125633</td>\n",
              "      <td>@mestreladino Que gosta de esquadrão suicida</td>\n",
              "    </tr>\n",
              "    <tr>\n",
              "      <th>3</th>\n",
              "      <td>2</td>\n",
              "      <td>1188845613363978240</td>\n",
              "      <td>@rodrigobocardi @luizfornelli Estranho ver fal...</td>\n",
              "    </tr>\n",
              "    <tr>\n",
              "      <th>4</th>\n",
              "      <td>3</td>\n",
              "      <td>1192502743732236288</td>\n",
              "      <td>Quando eu sumi, eu tentei suicídio... fiquei t...</td>\n",
              "    </tr>\n",
              "    <tr>\n",
              "      <th>...</th>\n",
              "      <td>...</td>\n",
              "      <td>...</td>\n",
              "      <td>...</td>\n",
              "    </tr>\n",
              "    <tr>\n",
              "      <th>995</th>\n",
              "      <td>3</td>\n",
              "      <td>1165351025261326337</td>\n",
              "      <td>@biaoo_ Esquadrão suicida</td>\n",
              "    </tr>\n",
              "    <tr>\n",
              "      <th>996</th>\n",
              "      <td>1</td>\n",
              "      <td>1135320580109078528</td>\n",
              "      <td>@gomesdeco @EU_BRAZUKA @ROODRIGOMATEUS @Smith_...</td>\n",
              "    </tr>\n",
              "    <tr>\n",
              "      <th>997</th>\n",
              "      <td>1</td>\n",
              "      <td>1198404596441518081</td>\n",
              "      <td>vou dormir to triste por 182738392922 motivos ...</td>\n",
              "    </tr>\n",
              "    <tr>\n",
              "      <th>998</th>\n",
              "      <td>2</td>\n",
              "      <td>1168550361260527618</td>\n",
              "      <td>Essa papo é perverso também porque culpabiliza...</td>\n",
              "    </tr>\n",
              "    <tr>\n",
              "      <th>999</th>\n",
              "      <td>1</td>\n",
              "      <td>1165648621112573954</td>\n",
              "      <td>apavorada com essa menina q se jogou, se suicidou</td>\n",
              "    </tr>\n",
              "  </tbody>\n",
              "</table>\n",
              "<p>1000 rows × 3 columns</p>\n",
              "</div>"
            ],
            "text/plain": [
              "     classe                   id  \\\n",
              "0         1  1093326657560240128   \n",
              "1         3  1111287234572009472   \n",
              "2         3  1189370037037125633   \n",
              "3         2  1188845613363978240   \n",
              "4         3  1192502743732236288   \n",
              "..      ...                  ...   \n",
              "995       3  1165351025261326337   \n",
              "996       1  1135320580109078528   \n",
              "997       1  1198404596441518081   \n",
              "998       2  1168550361260527618   \n",
              "999       1  1165648621112573954   \n",
              "\n",
              "                                                 texto  \n",
              "0                 @giucarv papo de eu cometer suicídio  \n",
              "1                @chegueste tá a cara do suicídio hoje  \n",
              "2         @mestreladino Que gosta de esquadrão suicida  \n",
              "3    @rodrigobocardi @luizfornelli Estranho ver fal...  \n",
              "4    Quando eu sumi, eu tentei suicídio... fiquei t...  \n",
              "..                                                 ...  \n",
              "995                          @biaoo_ Esquadrão suicida  \n",
              "996  @gomesdeco @EU_BRAZUKA @ROODRIGOMATEUS @Smith_...  \n",
              "997  vou dormir to triste por 182738392922 motivos ...  \n",
              "998  Essa papo é perverso também porque culpabiliza...  \n",
              "999  apavorada com essa menina q se jogou, se suicidou  \n",
              "\n",
              "[1000 rows x 3 columns]"
            ]
          },
          "execution_count": 4,
          "metadata": {},
          "output_type": "execute_result"
        }
      ],
      "source": [
        "xlsx = pd.ExcelFile('tweets_classificados.xlsx')\n",
        "df1 = pd.read_excel(xlsx, '2019')\n",
        "df2 = pd.read_excel(xlsx, '2020')\n",
        "\n",
        "df1"
      ]
    },
    {
      "cell_type": "code",
      "execution_count": 5,
      "metadata": {
        "id": "h1t4h4C-ogT6"
      },
      "outputs": [],
      "source": [
        "def replace_retweet(tweet, default_replace=\"\"):\n",
        "  tweet = re.sub('RT\\s+', default_replace, tweet)\n",
        "  return tweet\n",
        "  "
      ]
    },
    {
      "cell_type": "code",
      "execution_count": 6,
      "metadata": {
        "id": "ufqKbfvypLKa"
      },
      "outputs": [],
      "source": [
        "def demojize(tweet):\n",
        "  tweet = emoji.demojize(tweet)\n",
        "  return tweet"
      ]
    },
    {
      "cell_type": "code",
      "execution_count": 7,
      "metadata": {
        "id": "EXbezgjXpRA5"
      },
      "outputs": [],
      "source": [
        "def replace_url(tweet, default_replace=\"\"):\n",
        "  tweet = re.sub('(http|https):\\/\\/\\S+', default_replace, tweet)\n",
        "  return tweet"
      ]
    },
    {
      "cell_type": "code",
      "execution_count": 8,
      "metadata": {
        "id": "F2KbWn_1pTtF"
      },
      "outputs": [],
      "source": [
        "def replace_hashtag(tweet, default_replace=\"\"):\n",
        "  tweet = re.sub('#+', default_replace, tweet)\n",
        "  return tweet"
      ]
    },
    {
      "cell_type": "code",
      "execution_count": 9,
      "metadata": {},
      "outputs": [],
      "source": [
        "def replace_tagging(tweet):\n",
        "  while True:\n",
        "    posicaoArroba = tweet.find('@')\n",
        "    if posicaoArroba == -1:\n",
        "        break\n",
        "    finalPalavraArroba = tweet[posicaoArroba:].find(' ')\n",
        "    if finalPalavraArroba == -1:\n",
        "        tweet = tweet[:posicaoArroba]\n",
        "    else:\n",
        "        tweet = tweet[:posicaoArroba] + tweet[posicaoArroba + (finalPalavraArroba + 1):]\n",
        "  return tweet"
      ]
    },
    {
      "cell_type": "code",
      "execution_count": 10,
      "metadata": {
        "id": "KpnZ8vzopXSF"
      },
      "outputs": [],
      "source": [
        "def to_lowercase(tweet):\n",
        "  tweet = tweet.lower()\n",
        "  return tweet"
      ]
    },
    {
      "cell_type": "code",
      "execution_count": 11,
      "metadata": {
        "id": "uY-axa2Apa-u"
      },
      "outputs": [],
      "source": [
        "def word_repetition(tweet):\n",
        "  tweet = re.sub(r'(.)\\1+', r'\\1\\1', tweet)\n",
        "  return tweet"
      ]
    },
    {
      "cell_type": "code",
      "execution_count": 12,
      "metadata": {
        "id": "N9-vGjkzpduq"
      },
      "outputs": [],
      "source": [
        "def punct_repetition(tweet, default_replace=\"\"):\n",
        "  tweet = re.sub(r'[\\?\\.\\!]+(?=[\\?\\.\\!])', default_replace, tweet)\n",
        "  return tweet"
      ]
    },
    {
      "cell_type": "code",
      "execution_count": 13,
      "metadata": {},
      "outputs": [],
      "source": [
        "def remove_accents(tweet):\n",
        "  tweet_norm = unidecode.unidecode(tweet)\n",
        "  return tweet_norm"
      ]
    },
    {
      "cell_type": "code",
      "execution_count": null,
      "metadata": {},
      "outputs": [],
      "source": [
        "def tokenize(tweet): \n",
        "    tokenizer = BertTokenizer.from_pretrained(\"bert-base-cased\")\n",
        "    tokenized_sequence = tokenizer.tokenize(tweet)\n",
        "    inputs = tokenizer(tweet)\n",
        "    "
      ]
    },
    {
      "cell_type": "code",
      "execution_count": 14,
      "metadata": {
        "colab": {
          "base_uri": "https://localhost:8080/",
          "height": 380
        },
        "id": "5puwEe0F8bTK",
        "outputId": "11b4bdb0-1ffa-4d3f-9b65-19f014e512b7"
      },
      "outputs": [
        {
          "data": {
            "text/html": [
              "<div>\n",
              "<style scoped>\n",
              "    .dataframe tbody tr th:only-of-type {\n",
              "        vertical-align: middle;\n",
              "    }\n",
              "\n",
              "    .dataframe tbody tr th {\n",
              "        vertical-align: top;\n",
              "    }\n",
              "\n",
              "    .dataframe thead th {\n",
              "        text-align: right;\n",
              "    }\n",
              "</style>\n",
              "<table border=\"1\" class=\"dataframe\">\n",
              "  <thead>\n",
              "    <tr style=\"text-align: right;\">\n",
              "      <th></th>\n",
              "      <th>classe</th>\n",
              "      <th>id</th>\n",
              "      <th>texto</th>\n",
              "    </tr>\n",
              "  </thead>\n",
              "  <tbody>\n",
              "    <tr>\n",
              "      <th>0</th>\n",
              "      <td>1</td>\n",
              "      <td>1093326657560240128</td>\n",
              "      <td>papo de eu cometer suicidio</td>\n",
              "    </tr>\n",
              "    <tr>\n",
              "      <th>1</th>\n",
              "      <td>3</td>\n",
              "      <td>1111287234572009472</td>\n",
              "      <td>ta a cara do suicidio hoje</td>\n",
              "    </tr>\n",
              "    <tr>\n",
              "      <th>2</th>\n",
              "      <td>3</td>\n",
              "      <td>1189370037037125633</td>\n",
              "      <td>que gosta de esquadrao suicida</td>\n",
              "    </tr>\n",
              "    <tr>\n",
              "      <th>3</th>\n",
              "      <td>2</td>\n",
              "      <td>1188845613363978240</td>\n",
              "      <td>estranho ver falarem de suicidio se pelas norm...</td>\n",
              "    </tr>\n",
              "    <tr>\n",
              "      <th>4</th>\n",
              "      <td>3</td>\n",
              "      <td>1192502743732236288</td>\n",
              "      <td>quando eu sumi, eu tentei suicidio. fiquei tre...</td>\n",
              "    </tr>\n",
              "    <tr>\n",
              "      <th>...</th>\n",
              "      <td>...</td>\n",
              "      <td>...</td>\n",
              "      <td>...</td>\n",
              "    </tr>\n",
              "    <tr>\n",
              "      <th>995</th>\n",
              "      <td>3</td>\n",
              "      <td>1165351025261326337</td>\n",
              "      <td>esquadrao suicida</td>\n",
              "    </tr>\n",
              "    <tr>\n",
              "      <th>996</th>\n",
              "      <td>1</td>\n",
              "      <td>1135320580109078528</td>\n",
              "      <td>a ainda tentou forjar um assalto mas o pai del...</td>\n",
              "    </tr>\n",
              "    <tr>\n",
              "      <th>997</th>\n",
              "      <td>1</td>\n",
              "      <td>1198404596441518081</td>\n",
              "      <td>vou dormir to triste por 182738392922 motivos ...</td>\n",
              "    </tr>\n",
              "    <tr>\n",
              "      <th>998</th>\n",
              "      <td>2</td>\n",
              "      <td>1168550361260527618</td>\n",
              "      <td>essa papo e perverso tambem porque culpabiliza...</td>\n",
              "    </tr>\n",
              "    <tr>\n",
              "      <th>999</th>\n",
              "      <td>1</td>\n",
              "      <td>1165648621112573954</td>\n",
              "      <td>apavorada com essa menina q se jogou, se suicidou</td>\n",
              "    </tr>\n",
              "  </tbody>\n",
              "</table>\n",
              "<p>1000 rows × 3 columns</p>\n",
              "</div>"
            ],
            "text/plain": [
              "     classe                   id  \\\n",
              "0         1  1093326657560240128   \n",
              "1         3  1111287234572009472   \n",
              "2         3  1189370037037125633   \n",
              "3         2  1188845613363978240   \n",
              "4         3  1192502743732236288   \n",
              "..      ...                  ...   \n",
              "995       3  1165351025261326337   \n",
              "996       1  1135320580109078528   \n",
              "997       1  1198404596441518081   \n",
              "998       2  1168550361260527618   \n",
              "999       1  1165648621112573954   \n",
              "\n",
              "                                                 texto  \n",
              "0                          papo de eu cometer suicidio  \n",
              "1                           ta a cara do suicidio hoje  \n",
              "2                       que gosta de esquadrao suicida  \n",
              "3    estranho ver falarem de suicidio se pelas norm...  \n",
              "4    quando eu sumi, eu tentei suicidio. fiquei tre...  \n",
              "..                                                 ...  \n",
              "995                                  esquadrao suicida  \n",
              "996  a ainda tentou forjar um assalto mas o pai del...  \n",
              "997  vou dormir to triste por 182738392922 motivos ...  \n",
              "998  essa papo e perverso tambem porque culpabiliza...  \n",
              "999  apavorada com essa menina q se jogou, se suicidou  \n",
              "\n",
              "[1000 rows x 3 columns]"
            ]
          },
          "execution_count": 14,
          "metadata": {},
          "output_type": "execute_result"
        }
      ],
      "source": [
        "df1_norm = df1\n",
        "for i in df1['texto']: \n",
        "  tweet = str(i)\n",
        "\n",
        "  tweet = replace_retweet(tweet)\n",
        "  tweet = demojize(tweet)\n",
        "  tweet = replace_url(tweet)\n",
        "  tweet = replace_tagging(tweet)\n",
        "  tweet = replace_hashtag(tweet)\n",
        "  tweet = to_lowercase(tweet)\n",
        "  tweet = word_repetition(tweet)\n",
        "  tweet = punct_repetition(tweet)\n",
        "  tweet = remove_accents(tweet)\n",
        "\n",
        "  df1_norm['texto'] = df1['texto'].replace(str(i), tweet)\n",
        "\n",
        "\n",
        "df1_norm"
      ]
    },
    {
      "cell_type": "code",
      "execution_count": 15,
      "metadata": {
        "colab": {
          "base_uri": "https://localhost:8080/",
          "height": 380
        },
        "id": "P6Z-SHZD_vzw",
        "outputId": "088100b4-2493-4678-d41e-5a9c059e2680"
      },
      "outputs": [
        {
          "data": {
            "text/html": [
              "<div>\n",
              "<style scoped>\n",
              "    .dataframe tbody tr th:only-of-type {\n",
              "        vertical-align: middle;\n",
              "    }\n",
              "\n",
              "    .dataframe tbody tr th {\n",
              "        vertical-align: top;\n",
              "    }\n",
              "\n",
              "    .dataframe thead th {\n",
              "        text-align: right;\n",
              "    }\n",
              "</style>\n",
              "<table border=\"1\" class=\"dataframe\">\n",
              "  <thead>\n",
              "    <tr style=\"text-align: right;\">\n",
              "      <th></th>\n",
              "      <th>classe</th>\n",
              "      <th>id</th>\n",
              "      <th>texto</th>\n",
              "    </tr>\n",
              "  </thead>\n",
              "  <tbody>\n",
              "    <tr>\n",
              "      <th>0</th>\n",
              "      <td>2</td>\n",
              "      <td>1344408706566467589</td>\n",
              "      <td>mortes no ano de 2020:- 394.076 - malaria- 489...</td>\n",
              "    </tr>\n",
              "    <tr>\n",
              "      <th>1</th>\n",
              "      <td>3</td>\n",
              "      <td>1344355193220190210</td>\n",
              "      <td>jose de abreu: 'brasil se matou, bolsonaro e a...</td>\n",
              "    </tr>\n",
              "    <tr>\n",
              "      <th>2</th>\n",
              "      <td>1</td>\n",
              "      <td>1344425351804547073</td>\n",
              "      <td>o ano novo vai trazer meu suicidio,eu confio</td>\n",
              "    </tr>\n",
              "    <tr>\n",
              "      <th>3</th>\n",
              "      <td>1</td>\n",
              "      <td>1344351306941681665</td>\n",
              "      <td>tw //  suicidioa cada rt ou fav, eu vou anotar...</td>\n",
              "    </tr>\n",
              "    <tr>\n",
              "      <th>4</th>\n",
              "      <td>3</td>\n",
              "      <td>1344425112716640256</td>\n",
              "      <td>suicidio</td>\n",
              "    </tr>\n",
              "    <tr>\n",
              "      <th>...</th>\n",
              "      <td>...</td>\n",
              "      <td>...</td>\n",
              "      <td>...</td>\n",
              "    </tr>\n",
              "    <tr>\n",
              "      <th>996</th>\n",
              "      <td>3</td>\n",
              "      <td>1344323118022668288</td>\n",
              "      <td>tirando esquadrao suicida, os filme e tudo bom...</td>\n",
              "    </tr>\n",
              "    <tr>\n",
              "      <th>997</th>\n",
              "      <td>2</td>\n",
              "      <td>1344323092059987968</td>\n",
              "      <td>eu acho que remedio e uma coisa a qual voce de...</td>\n",
              "    </tr>\n",
              "    <tr>\n",
              "      <th>998</th>\n",
              "      <td>3</td>\n",
              "      <td>1344322928633143298</td>\n",
              "      <td>garen suicida, ate o time inimigo falou q pass...</td>\n",
              "    </tr>\n",
              "    <tr>\n",
              "      <th>999</th>\n",
              "      <td>1</td>\n",
              "      <td>1344322847867629568</td>\n",
              "      <td>e todas querem cometer suicidio</td>\n",
              "    </tr>\n",
              "    <tr>\n",
              "      <th>1000</th>\n",
              "      <td>1</td>\n",
              "      <td>1344322806075502592</td>\n",
              "      <td>por um tempo curto eu tirei a ideia do suicidi...</td>\n",
              "    </tr>\n",
              "  </tbody>\n",
              "</table>\n",
              "<p>1001 rows × 3 columns</p>\n",
              "</div>"
            ],
            "text/plain": [
              "      classe                   id  \\\n",
              "0          2  1344408706566467589   \n",
              "1          3  1344355193220190210   \n",
              "2          1  1344425351804547073   \n",
              "3          1  1344351306941681665   \n",
              "4          3  1344425112716640256   \n",
              "...      ...                  ...   \n",
              "996        3  1344323118022668288   \n",
              "997        2  1344323092059987968   \n",
              "998        3  1344322928633143298   \n",
              "999        1  1344322847867629568   \n",
              "1000       1  1344322806075502592   \n",
              "\n",
              "                                                  texto  \n",
              "0     mortes no ano de 2020:- 394.076 - malaria- 489...  \n",
              "1     jose de abreu: 'brasil se matou, bolsonaro e a...  \n",
              "2          o ano novo vai trazer meu suicidio,eu confio  \n",
              "3     tw //  suicidioa cada rt ou fav, eu vou anotar...  \n",
              "4                                              suicidio  \n",
              "...                                                 ...  \n",
              "996   tirando esquadrao suicida, os filme e tudo bom...  \n",
              "997   eu acho que remedio e uma coisa a qual voce de...  \n",
              "998   garen suicida, ate o time inimigo falou q pass...  \n",
              "999                    e todas querem cometer suicidio   \n",
              "1000  por um tempo curto eu tirei a ideia do suicidi...  \n",
              "\n",
              "[1001 rows x 3 columns]"
            ]
          },
          "execution_count": 15,
          "metadata": {},
          "output_type": "execute_result"
        }
      ],
      "source": [
        "df2_norm = df2\n",
        "for i in df2['texto']: \n",
        "  tweet = str(i)\n",
        "\n",
        "  tweet = replace_retweet(tweet)\n",
        "  tweet = demojize(tweet)\n",
        "  tweet = replace_url(tweet)\n",
        "  tweet = replace_hashtag(tweet)\n",
        "  tweet = replace_tagging(tweet)\n",
        "  tweet = to_lowercase(tweet)\n",
        "  tweet = word_repetition(tweet)\n",
        "  tweet = punct_repetition(tweet)\n",
        "  tweet = remove_accents(tweet)\n",
        "\n",
        "  df2_norm['texto'] = df2['texto'].replace(str(i), tweet)\n",
        "\n",
        "\n",
        "df2_norm"
      ]
    },
    {
      "cell_type": "code",
      "execution_count": 16,
      "metadata": {
        "id": "hOAiXZ5-_3ny"
      },
      "outputs": [],
      "source": [
        "df1_norm.to_excel('tweets_normalizados_2019.xlsx', sheet_name='2019_normalizados', index=False)"
      ]
    },
    {
      "cell_type": "code",
      "execution_count": 17,
      "metadata": {},
      "outputs": [],
      "source": [
        "df2_norm.to_excel('tweets_normalizados_2020.xlsx', sheet_name='2020_normalizados', index=False)"
      ]
    }
  ],
  "metadata": {
    "colab": {
      "provenance": []
    },
    "kernelspec": {
      "display_name": "Python 3.10.8 64-bit",
      "language": "python",
      "name": "python3"
    },
    "language_info": {
      "codemirror_mode": {
        "name": "ipython",
        "version": 3
      },
      "file_extension": ".py",
      "mimetype": "text/x-python",
      "name": "python",
      "nbconvert_exporter": "python",
      "pygments_lexer": "ipython3",
      "version": "3.10.8"
    },
    "vscode": {
      "interpreter": {
        "hash": "369f2c481f4da34e4445cda3fffd2e751bd1c4d706f27375911949ba6bb62e1c"
      }
    }
  },
  "nbformat": 4,
  "nbformat_minor": 0
}
